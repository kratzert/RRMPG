{
 "cells": [
  {
   "cell_type": "markdown",
   "metadata": {},
   "source": [
    "# Numba Speed-Test\n",
    "\n",
    "In this notebook I'll test the speed of a simple hydrological model (the ABC-Model [1]) implemented in pure Python, Numba and Fortran. This should only been seen as an example of the power of numba in speeding up array-oriented python functions, that have to be processed using loops. This is for example the case for hydrological models that have to be processed timestep after timestep to update model states (depending on previous states) and calculate flows. Python is natively very slow for this kind of functions (loops). Normally hydrological (as well as meterological and environmental) models are implemented in Fortran or C/C++ which are known for their speed. The downside is, that this languages are quite harder to start with and the code often seems overly complicated for beginner. Numba is a library that performs just-in-time compilation on Python code and can therefore dramatically increase the speed of Python functions (without having to change much in the code).\n",
    "\n",
    "Anyway, this is not meant to give an introduction to numba, but just to compare the execution speed against pure Python and Fortan. For everybody, who is interested in further explanations on Numba see:\n",
    " - [Gil Forsyth's & Lorena Barba's tutorial from the SciPy 2017](https://www.youtube.com/watch?v=1AwG0T4gaO0)\n",
    " - [The numba homepage, which includes examples](https://numba.pydata.org/)\n",
    "\n",
    "If you want to reproduce the results and you have installed a conda environment using the environment.yml from the [rrmpg github repository](https://github.com/kratzert/RRMPG/blob/master/environment.yml) make sure to additionally install `fortran-magic` using pip:\n",
    "\n",
    "``` \n",
    "pip install -U fortran-magic\n",
    "```\n",
    "\n",
    "[1] Myron B. Fiering \"Streamflow synthesis\" Cambridge, Harvard University Press, 1967. 139 P. (1967).\n"
   ]
  },
  {
   "cell_type": "code",
   "execution_count": 1,
   "metadata": {},
   "outputs": [
    {
     "name": "stderr",
     "output_type": "stream",
     "text": [
      "/home/fishtv/miniconda3/lib/python3.5/site-packages/fortranmagic.py:147: UserWarning: get_ipython_cache_dir has moved to the IPython.paths module since IPython 4.0.\n",
      "  self._lib_dir = os.path.join(get_ipython_cache_dir(), 'fortran')\n"
     ]
    },
    {
     "data": {
      "application/javascript": [
       "$.getScript(\"https://raw.github.com/marijnh/CodeMirror/master/mode/fortran/fortran.js\", function () {\n",
       "IPython.config.cell_magic_highlight['magic_fortran'] = {'reg':[/^%%fortran/]};});\n"
      ]
     },
     "metadata": {},
     "output_type": "display_data"
    }
   ],
   "source": [
    "# Notebook setups\n",
    "import numpy as np\n",
    "\n",
    "from numba import njit, float64\n",
    "from timeit import timeit\n",
    "\n",
    "%load_ext fortranmagic"
   ]
  },
  {
   "cell_type": "markdown",
   "metadata": {},
   "source": [
    "We'll use an array of random numbers as input for the model. Since we only want to test the execution time, this will work for now."
   ]
  },
  {
   "cell_type": "code",
   "execution_count": 2,
   "metadata": {
    "collapsed": true
   },
   "outputs": [],
   "source": [
    "# Let's an array of 10 mio values\n",
    "rain = np.random.random(size=10000000)"
   ]
  },
  {
   "cell_type": "markdown",
   "metadata": {},
   "source": [
    "Next we are going to define three different functions:\n",
    "\n",
    "1. `abc_model_py`: An implementation of the ABC-Model using pure Python.\n",
    "2. `abc_model_numba`: A numba version of the ABC-model. The just-in-time compilation is achieved by adding a numba decorator over the function definition. I use the `@njit` to make sure an error is raised if numba can't compile the function.\n",
    "3. `abc_model_fortan`: A fortan version of the ABC-model.\n",
    "\n",
    "Note how for this simple model the only difference between the pure Python version and the Numba version is the decorator. The entire code of the model is the same."
   ]
  },
  {
   "cell_type": "code",
   "execution_count": 3,
   "metadata": {
    "collapsed": true
   },
   "outputs": [],
   "source": [
    "# pure Python implementation\n",
    "def abc_model_py(a, b, c, rain):\n",
    "    outflow = np.zeros((rain.size), dtype=np.float64)\n",
    "    state_in = 0\n",
    "    state_out = 0\n",
    "    for i in range(rain.size):\n",
    "        state_out = (1 - c) * state_in + a * rain[i]\n",
    "        outflow[i] = (1 - a - b) * rain[i] + c * state_in\n",
    "        state_in = state_out\n",
    "    return outflow\n",
    "\n",
    "# numba version of the ABC-model\n",
    "@njit(['float64[:](float64,float64,float64,float64[:])'])\n",
    "def abc_model_numba(a, b, c, rain):\n",
    "    outflow = np.zeros((rain.size), dtype=np.float64)\n",
    "    state_in = 0\n",
    "    state_out = 0\n",
    "    for i in range(rain.size):\n",
    "        state_out = (1 - c) * state_in + a * rain[i]\n",
    "        outflow[i] = (1 - a - b) * rain[i] + c * state_in\n",
    "        state_in = state_out\n",
    "    return outflow"
   ]
  },
  {
   "cell_type": "code",
   "execution_count": 4,
   "metadata": {
    "collapsed": true
   },
   "outputs": [],
   "source": [
    "%%fortran --f90flags \"-march=native -ffast-math\"\n",
    "\n",
    "    subroutine abc_model_fortran(col_dim, a, b, c, inflow, outflow)\n",
    "\n",
    "        integer, intent(in) :: col_dim\n",
    "        real(kind = 8 ), intent(in) :: a, b, c\n",
    "        real(kind = 8 ), intent(in), dimension(col_dim) :: inflow\n",
    "\n",
    "        real(kind = 8) :: state_in, state_out\n",
    "        integer :: t ! loop variable\n",
    "        real(kind = 8 ) :: init_state\n",
    "        real(kind = 8 ), dimension(col_dim) :: state\n",
    "\n",
    "        real(kind = 8 ), intent(out), dimension(col_dim) :: outflow\n",
    "\n",
    "        state_in = 0\n",
    "        state_out = 0\n",
    "        do t = 1,col_dim\n",
    "            state_out = (1 - c) * state_in + a * inflow(t)\n",
    "            outflow(t) = (1 - a - b) * inflow(t) + c * state_in\n",
    "            state_in = state_out\n",
    "        end do\n",
    "\n",
    "    end subroutine"
   ]
  },
  {
   "cell_type": "code",
   "execution_count": null,
   "metadata": {},
   "outputs": [],
   "source": [
    "%%file abc.f90\n",
    "\n",
    "module abc\n",
    "use iso_c_binding, only: c_int, c_double\n",
    "implicit none\n",
    "integer, parameter :: dp = kind(0d0)\n",
    "private\n",
    "public c_abc_model_fortran\n",
    "\n",
    "contains\n",
    "\n",
    "\n",
    "subroutine c_abc_model_fortran(n, a, b, c, inflow, outflow) bind(c)\n",
    "integer(c_int), intent(in), value :: n\n",
    "real(c_double), intent(in), value :: a, b, c\n",
    "real(c_double), intent(in) :: inflow(n)\n",
    "real(c_double), intent(out) :: outflow(n)\n",
    "call abc_model(a, b, c, inflow, outflow)\n",
    "end subroutine\n",
    "\n",
    "\n",
    "subroutine abc_model(a, b, c, inflow, outflow)\n",
    "real(dp), intent(in) :: a, b, c, inflow(:)\n",
    "real(dp), intent(out) :: outflow(:)\n",
    "real(dp) :: state_in, state_out\n",
    "integer :: t\n",
    "state_in = 0\n",
    "do t = 1, size(inflow)\n",
    "    state_out = (1 - c) * state_in + a * inflow(t)\n",
    "    outflow(t) = (1 - a - b) * inflow(t) + c * state_in\n",
    "    state_in = state_out\n",
    "end do\n",
    "end subroutine\n",
    "\n",
    "\n",
    "end module"
   ]
  },
  {
   "cell_type": "code",
   "execution_count": null,
   "metadata": {},
   "outputs": [],
   "source": [
    "%%file abc_py.pyx\n",
    "\n",
    "from numpy cimport ndarray\n",
    "from numpy import empty, size\n",
    "\n",
    "cdef extern:\n",
    "    void c_abc_model_fortran(int n, double a, double b, double c, double *inflow, double *outflow)\n",
    "\n",
    "def abc_model_fortran(double a, double b, double c, ndarray[double, mode=\"c\"] inflow):\n",
    "    cdef int N = size(inflow)\n",
    "    cdef ndarray[double, mode=\"c\"] outflow = empty(N, dtype=\"double\")\n",
    "    c_abc_model_fortran(N, a, b, c, &inflow[0], &outflow[0])\n",
    "    return outflow"
   ]
  },
  {
   "cell_type": "code",
   "execution_count": null,
   "metadata": {},
   "outputs": [],
   "source": [
    "%%bash\n",
    "set -e\n",
    "#set -x\n",
    "# Debug flags\n",
    "#FFLAGS=\"-Wall -Wextra -Wimplicit-interface -fPIC -fmax-errors=1 -g -fcheck=all -fbacktrace\"\n",
    "#CFLAGS=\"-Wall -Wextra -fPIC -fmax-errors=1 -g\"\n",
    "# Release flags\n",
    "FFLAGS=\"-fPIC -O3 -march=native -ffast-math -funroll-loops\"\n",
    "CFLAGS=\"-fPIC -O3 -march=native -ffast-math -funroll-loops\"\n",
    "gfortran -o abc.o -c abc.f90 $FFLAGS\n",
    "cython abc_py.pyx\n",
    "gcc -o abc_py.o -c abc_py.c -I$CONDA_PREFIX/include/python3.6m/ $CFLAGS\n",
    "gcc -o abc_py.so abc_py.o abc.o -L$CONDA_PREFIX/lib -lpython3.6m -lgfortran -shared"
   ]
  },
  {
   "cell_type": "code",
   "execution_count": null,
   "metadata": {
    "collapsed": true
   },
   "outputs": [],
   "source": [
    "from abc_py import abc_model_fortran as abc_model_fortran2"
   ]
  },
  {
   "cell_type": "markdown",
   "metadata": {},
   "source": [
    "Now we'll use the `timeit` package to measure the execution time of each of the functions"
   ]
  },
  {
   "cell_type": "code",
   "execution_count": 5,
   "metadata": {},
   "outputs": [
    {
     "name": "stdout",
     "output_type": "stream",
     "text": [
      "6.75 s ± 11.6 ms per loop (mean ± std. dev. of 5 runs, 10 loops each)\n"
     ]
    }
   ],
   "source": [
    "# Measure the execution time of the Python implementation\n",
    "py_time = %timeit -r 5 -n 10 -o abc_model_py(0.2, 0.6, 0.1, rain)"
   ]
  },
  {
   "cell_type": "code",
   "execution_count": 6,
   "metadata": {},
   "outputs": [
    {
     "name": "stdout",
     "output_type": "stream",
     "text": [
      "30.6 ms ± 498 µs per loop (mean ± std. dev. of 5 runs, 10 loops each)\n"
     ]
    }
   ],
   "source": [
    "# Measure the execution time of the Numba implementation\n",
    "numba_time = %timeit -r 5 -n 10 -o abc_model_numba(0.2, 0.6, 0.1, rain)"
   ]
  },
  {
   "cell_type": "code",
   "execution_count": 7,
   "metadata": {},
   "outputs": [
    {
     "name": "stdout",
     "output_type": "stream",
     "text": [
      "31.9 ms ± 757 µs per loop (mean ± std. dev. of 5 runs, 10 loops each)\n"
     ]
    }
   ],
   "source": [
    "# Measure the execution time of the Fortran implementation\n",
    "fortran_time = %timeit -r 5 -n 10 -o abc_model_fortran(0.2, 0.6, 0.1, rain)"
   ]
  },
  {
   "cell_type": "code",
   "execution_count": null,
   "metadata": {},
   "outputs": [],
   "source": [
    "# Measure the execution time of the Fortran 2 implementation\n",
    "fortran_time2 = %timeit -r 5 -n 10 -o abc_model_fortran2(0.2, 0.6, 0.1, rain)"
   ]
  },
  {
   "cell_type": "markdown",
   "metadata": {},
   "source": [
    "As you can see by the raw numbers, Fortran (as expected) is the fastest, but what is interesting, that the Numba version of the ABC-Model does not perform much worse. Let's compare the numbers.\n",
    "\n",
    "First we'll compare the pure Python version, against the Numba version. Remember, everthing we did was to add a decorator to the Python function, the rest (the magic) is done by the Numba library."
   ]
  },
  {
   "cell_type": "code",
   "execution_count": 8,
   "metadata": {},
   "outputs": [
    {
     "data": {
      "text/plain": [
       "222.1521754580626"
      ]
     },
     "execution_count": 8,
     "metadata": {},
     "output_type": "execute_result"
    }
   ],
   "source": [
    "py_time.best / numba_time.best"
   ]
  },
  {
   "cell_type": "markdown",
   "metadata": {
    "collapsed": true
   },
   "source": [
    "Wow, this is an over 220 x speed up by one single additional line of code. Note that for more complicated models, we'll have to adapt the code a bit more, but in general it will stay very close to normal Python code.\n",
    "\n",
    "Now let's see how the Numba version performs against Fortran, which is still the standard in the modelling community of hydrology and meteorology."
   ]
  },
  {
   "cell_type": "code",
   "execution_count": 9,
   "metadata": {},
   "outputs": [
    {
     "data": {
      "text/plain": [
       "0.9627960721576471"
      ]
     },
     "execution_count": 9,
     "metadata": {},
     "output_type": "execute_result"
    }
   ],
   "source": [
    "numba_time.best / fortran_time.best"
   ]
  },
  {
   "cell_type": "code",
   "execution_count": null,
   "metadata": {},
   "outputs": [],
   "source": [
    "numba_time.best / fortran_time2.best"
   ]
  },
  {
   "cell_type": "markdown",
   "metadata": {},
   "source": [
    "Actually, this even surprised me. With one decorator the Python function became faster than the Fortran file, although the difference is minimal, but who would have guessed that we can bring Python to this speed dimensions. \n",
    "\n",
    "Note that this Fortran function is compiled using the GNU Fortran compiler, which is open source and free. Using e.g. the Intel Fortran compiler will certainly increase speed of the Fortran function, but I think it's only fair to compare two open source and free-of-charge versions.\n",
    "\n",
    "**So what does this mean**\n",
    "\n",
    "We'll see, but you'll now maybe better understand the idea of this project. We can implement models in Python, that have the performance of Fortran, but are easier to get started with and play around. We can run 1000s of simulations and don't have to wait for ages and we can stay the entire time in one environment (for simulating and evaluating the results). The hope is, that this will help fellow students/researchers to better understand hydrological models and lose fear of what might seem intimidating at first, follwing a quote by Richard Feynman: \n",
    "\n",
    "   **\"What I can not create, I do not understand\" - Richard Feynman**"
   ]
  }
 ],
 "metadata": {
  "kernelspec": {
   "display_name": "Python 3",
   "language": "python",
   "name": "python3"
  },
  "language_info": {
   "codemirror_mode": {
    "name": "ipython",
    "version": 3
   },
   "file_extension": ".py",
   "mimetype": "text/x-python",
   "name": "python",
   "nbconvert_exporter": "python",
   "pygments_lexer": "ipython3",
   "version": "3.5.2"
  }
 },
 "nbformat": 4,
 "nbformat_minor": 2
}
